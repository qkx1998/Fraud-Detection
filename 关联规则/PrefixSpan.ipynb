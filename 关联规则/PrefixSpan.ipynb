{
 "cells": [
  {
   "cell_type": "code",
   "execution_count": 5,
   "id": "f62d2452",
   "metadata": {},
   "outputs": [],
   "source": [
    "import numpy as np\n",
    "import pandas as pd"
   ]
  },
  {
   "cell_type": "code",
   "execution_count": 7,
   "id": "6f657366",
   "metadata": {},
   "outputs": [
    {
     "name": "stdout",
     "output_type": "stream",
     "text": [
      "[[(1,), (3,), (4,), (2,), (5,)], [(1, 3), (1, 4), (1, 2), (1, 5), (3, 4), (3, 5), (2, 3), (2, 5)], [(1, 3, 4), (1, 3, 5), (1, 2, 3), (1, 2, 5), (2, 3, 5)], [(1, 2, 3, 5)], []]\n"
     ]
    }
   ],
   "source": [
    "def createCInit(D, minSup):\n",
    "    # -------------生成第一个候选序列，即长度为1的集合序列\n",
    "    C1 = []\n",
    "    suffixDic={}  # 集合对应的每个序列的所在位置的开始位置，{(1,):{0:2,3:1}}表示前缀(1,)在0序列的结尾为2， 3序列的结尾为1\n",
    "    for i in range(len(D)):\n",
    "        for idx, item in enumerate(D[i]):\n",
    "            if tuple([item]) not in C1:\n",
    "                suffixDic[tuple([item])]={}\n",
    "                C1.append(tuple([item]))\n",
    "            if i not in suffixDic[tuple([item])].keys():\n",
    "                suffixDic[tuple([item])][i]=idx\n",
    "    # -------------根据当前候选集合删除低support的候选集 得到高于支持度的集合\n",
    "    L1 = C1.copy()# 必须替换一个进行copy操作\n",
    "    for iset in C1:\n",
    "        if (len(suffixDic[iset])/len(D)) < minSup:\n",
    "            L1.remove(iset)\n",
    "            suffixDic.pop(iset)\n",
    "    return L1, suffixDic\n",
    "\n",
    "\n",
    "def genNewFixAndFixDict(D, Lk, suffixDic, minSup):\n",
    "    # -------------生成长度+1的新的候选集合\n",
    "    newLk = []\n",
    "    # 访问每一个前缀\n",
    "    for Ck in Lk:\n",
    "        itemAllCount = {}  # 统计item的支持度计数\n",
    "        # 访问出现前缀的每一行  \n",
    "        for i in suffixDic[Ck].keys():\n",
    "            # Ck是('b',)形式C\n",
    "            # 从前缀开始访问每个字符\n",
    "            itemThisRow = {}# 统计item每一行后缀的情况\n",
    "            # suffixDic[Ck]是一个字典，i是key，suffixDic[Ck][i]是对应的后缀的位置，也是对应data里的行数\n",
    "            for j in range(suffixDic[Ck][i] + 1, len(D[i])):\n",
    "                if D[i][j] not in itemAllCount.keys():\n",
    "                    itemAllCount[D[i][j]] = 0\n",
    "                if D[i][j] not in itemThisRow.keys():\n",
    "                    itemAllCount[D[i][j]] = itemAllCount[D[i][j]] + 1# 支持度计数加一\n",
    "                    itemThisRow[D[i][j]] = True\n",
    "                    \n",
    "        c_itemList = []\n",
    "        # 根据minSup筛选候选字符\n",
    "        for item in itemAllCount.keys():\n",
    "            if itemAllCount[item]/len(D) >= minSup:\n",
    "                c_itemList.append(item) \n",
    "\n",
    "        # 将筛选后的字符组成新的候选项，加入候选集合\n",
    "        for c_item in c_itemList:\n",
    "            newLk.append(Ck+tuple([c_item]))\n",
    "\n",
    "\n",
    "    # -------------重新构建后缀集合\n",
    "    oldSuf = suffixDic\n",
    "    newSuffixDic = {}\n",
    "    for Ck in newLk:\n",
    "        newSuffixDic[Ck]={}\n",
    "        tgt = Ck[-1]\n",
    "        oldSufLocList = oldSuf[Ck[:-1]]#切片倒数第二个，新加的后缀的前一个\n",
    "        for i in oldSufLocList.keys():\n",
    "            for j in range(oldSufLocList[i]+1, len(D[i])):\n",
    "                if D[i][j] == tgt:\n",
    "                    newSuffixDic[Ck][i] = j\n",
    "                    break\n",
    "\n",
    "    return newLk, newSuffixDic\n",
    "\n",
    "\n",
    "data = [[1, 3, 4], [2, 3, 5], [1, 2, 3, 5], [2, 5]]\n",
    "\n",
    "minSup = 0.001\n",
    "L1, suffixDic = createCInit(data, minSup)\n",
    "L = [L1]\n",
    "i = 0\n",
    "while len(L[i])>0:\n",
    "    k = i + 2# k就是Lk的k，代表第几次生成的序列\n",
    "    Lk,suffixDic = genNewFixAndFixDict(data, L[i], suffixDic,minSup)\n",
    "    # 加入到集合中\n",
    "    L.append(Lk)\n",
    "    i = i + 1\n",
    "print(L)"
   ]
  },
  {
   "cell_type": "code",
   "execution_count": null,
   "id": "3de57130",
   "metadata": {},
   "outputs": [],
   "source": []
  }
 ],
 "metadata": {
  "kernelspec": {
   "display_name": "Python 3",
   "language": "python",
   "name": "python3"
  },
  "language_info": {
   "codemirror_mode": {
    "name": "ipython",
    "version": 3
   },
   "file_extension": ".py",
   "mimetype": "text/x-python",
   "name": "python",
   "nbconvert_exporter": "python",
   "pygments_lexer": "ipython3",
   "version": "3.7.0"
  }
 },
 "nbformat": 4,
 "nbformat_minor": 5
}
